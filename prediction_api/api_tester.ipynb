{
 "cells": [
  {
   "cell_type": "code",
   "execution_count": 18,
   "metadata": {},
   "outputs": [
    {
     "name": "stdout",
     "output_type": "stream",
     "text": [
      "[147.2709329827414, 171.01045025837183]\n"
     ]
    }
   ],
   "source": [
    "import requests\n",
    "\n",
    "json = [\n",
    "    {\n",
    "        \"model_key\": \"Ford\",\n",
    "        \"mileage\": 50000,\n",
    "        \"engine_power\": 120,\n",
    "        \"fuel\": \"diesel\",\n",
    "        \"paint_color\": \"blue\",\n",
    "        \"car_type\": \"sedan\",\n",
    "        \"private_parking_available\": True,\n",
    "        \"has_gps\": True,\n",
    "        \"has_air_conditioning\": True,\n",
    "        \"automatic_car\": True,\n",
    "        \"has_getaround_connect\": True,\n",
    "        \"has_speed_regulator\": True,\n",
    "        \"winter_tires\": True\n",
    "    },\n",
    "    {\n",
    "        \"model_key\": \"Mitsubishi\",\n",
    "        \"mileage\": 75000,\n",
    "        \"engine_power\": 180,\n",
    "        \"fuel\": \"hybrid_petrol\",\n",
    "        \"paint_color\": \"silver\",\n",
    "        \"car_type\": \"suv\",\n",
    "        \"private_parking_available\": False,\n",
    "        \"has_gps\": False,\n",
    "        \"has_air_conditioning\": True,\n",
    "        \"automatic_car\": False,\n",
    "        \"has_getaround_connect\": False,\n",
    "        \"has_speed_regulator\": True,\n",
    "        \"winter_tires\": False\n",
    "    }\n",
    "]\n",
    "\n",
    "response = requests.post(\"https://rental-prediction-api-37813df3987d.herokuapp.com//predict\", json=json)\n",
    "\n",
    "print(response.json())"
   ]
  }
 ],
 "metadata": {
  "kernelspec": {
   "display_name": "colab",
   "language": "python",
   "name": "python3"
  },
  "language_info": {
   "codemirror_mode": {
    "name": "ipython",
    "version": 3
   },
   "file_extension": ".py",
   "mimetype": "text/x-python",
   "name": "python",
   "nbconvert_exporter": "python",
   "pygments_lexer": "ipython3",
   "version": "3.10.9"
  }
 },
 "nbformat": 4,
 "nbformat_minor": 2
}
